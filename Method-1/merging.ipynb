{
 "cells": [
  {
   "cell_type": "code",
   "execution_count": 5,
   "id": "1c5aa802",
   "metadata": {},
   "outputs": [
    {
     "ename": "AttributeError",
     "evalue": "'NoneType' object has no attribute 'shape'",
     "output_type": "error",
     "traceback": [
      "\u001b[1;31m---------------------------------------------------------------------------\u001b[0m",
      "\u001b[1;31mAttributeError\u001b[0m                            Traceback (most recent call last)",
      "Cell \u001b[1;32mIn[5], line 10\u001b[0m\n\u001b[0;32m      7\u001b[0m veg_img \u001b[38;5;241m=\u001b[39m cv2\u001b[38;5;241m.\u001b[39mimread(\u001b[38;5;124m\"\u001b[39m\u001b[38;5;124m/mnt/data/output5.png\u001b[39m\u001b[38;5;124m\"\u001b[39m)\n\u001b[0;32m      9\u001b[0m \u001b[38;5;66;03m# Resize vegetation image to match runoff image\u001b[39;00m\n\u001b[1;32m---> 10\u001b[0m veg_img \u001b[38;5;241m=\u001b[39m cv2\u001b[38;5;241m.\u001b[39mresize(veg_img, (runoff_img\u001b[38;5;241m.\u001b[39mshape[\u001b[38;5;241m1\u001b[39m], runoff_img\u001b[38;5;241m.\u001b[39mshape[\u001b[38;5;241m0\u001b[39m]))\n\u001b[0;32m     12\u001b[0m \u001b[38;5;66;03m# Convert BGR to RGB\u001b[39;00m\n\u001b[0;32m     13\u001b[0m runoff_img \u001b[38;5;241m=\u001b[39m cv2\u001b[38;5;241m.\u001b[39mcvtColor(runoff_img, cv2\u001b[38;5;241m.\u001b[39mCOLOR_BGR2RGB)\n",
      "\u001b[1;31mAttributeError\u001b[0m: 'NoneType' object has no attribute 'shape'"
     ]
    }
   ],
   "source": [
    "import cv2\n",
    "import numpy as np\n",
    "import matplotlib.pyplot as plt\n",
    "\n",
    "# Load images\n",
    "runoff_img = cv2.imread(\"/mnt/data/output2.png\")\n",
    "veg_img = cv2.imread(\"/mnt/data/output5.png\")\n",
    "\n",
    "# Resize vegetation image to match runoff image\n",
    "veg_img = cv2.resize(veg_img, (runoff_img.shape[1], runoff_img.shape[0]))\n",
    "\n",
    "# Convert BGR to RGB\n",
    "runoff_img = cv2.cvtColor(runoff_img, cv2.COLOR_BGR2RGB)\n",
    "veg_img = cv2.cvtColor(veg_img, cv2.COLOR_BGR2RGB)\n",
    "\n",
    "# 1. Detect unhealthy vegetation (Red in RGB)\n",
    "unhealthy_mask = np.all(veg_img == [255, 0, 0], axis=-1).astype(np.uint8)\n",
    "\n",
    "# 2. Detect healthy vegetation (Blue)\n",
    "healthy_mask = np.all(veg_img == [0, 0, 255], axis=-1).astype(np.uint8)\n",
    "\n",
    "# 3. Detect runoff (bright areas in runoff image)\n",
    "gray_runoff = cv2.cvtColor(runoff_img, cv2.COLOR_RGB2GRAY)\n",
    "_, runoff_mask = cv2.threshold(gray_runoff, 50, 1, cv2.THRESH_BINARY)\n",
    "\n",
    "# 4. Create pixel-wise classification map\n",
    "# Priority: Overlap > Unhealthy > Runoff > Healthy > Background\n",
    "classification = np.zeros(runoff_mask.shape, dtype=np.uint8)\n",
    "classification[healthy_mask == 1] = 1\n",
    "classification[unhealthy_mask == 1] = 2\n",
    "classification[runoff_mask == 1] = 3\n",
    "classification[(unhealthy_mask == 1) & (runoff_mask == 1)] = 4  # Overlap\n",
    "\n",
    "# Total visible area\n",
    "visible_mask = ((veg_img != [0, 0, 0]).any(axis=-1) | (gray_runoff > 10)).astype(np.uint8)\n",
    "total_area = np.count_nonzero(visible_mask)\n",
    "\n",
    "# Risky areas = unhealthy or runoff or both\n",
    "risk_area = np.count_nonzero((classification == 2) | (classification == 3) | (classification == 4))\n",
    "\n",
    "# Calculate % and level\n",
    "percentage = (risk_area / total_area) * 100 if total_area else 0\n",
    "\n",
    "if percentage <= 10:\n",
    "    level = \"Very Low\"\n",
    "elif percentage <= 30:\n",
    "    level = \"Low\"\n",
    "elif percentage <= 50:\n",
    "    level = \"Moderate\"\n",
    "elif percentage <= 70:\n",
    "    level = \"High\"\n",
    "else:\n",
    "    level = \"Severe\"\n",
    "\n",
    "print(f\"✅ Agricultural Risk Classification:\")\n",
    "print(f\"   Total Area Analyzed: {total_area} pixels\")\n",
    "print(f\"   Risk Area: {risk_area} pixels\")\n",
    "print(f\"   ⚠️ Percentage Risk: {percentage:.2f}% → Level: {level}\")\n",
    "\n",
    "# Make a colored risk map\n",
    "final_map = np.zeros_like(runoff_img)\n",
    "final_map[classification == 1] = [0, 0, 255]       # Healthy → Blue\n",
    "final_map[classification == 2] = [255, 0, 0]       # Unhealthy → Red\n",
    "final_map[classification == 3] = [0, 255, 255]     # Runoff → Cyan\n",
    "final_map[classification == 4] = [255, 0, 255]     # Overlap → Magenta\n",
    "\n",
    "# Display\n",
    "plt.figure(figsize=(10, 6))\n",
    "plt.title(f\"🌾 Final Agricultural Risk Map → {level} ({percentage:.2f}%)\")\n",
    "plt.imshow(final_map)\n",
    "plt.axis('off')\n",
    "plt.show()\n"
   ]
  }
 ],
 "metadata": {
  "kernelspec": {
   "display_name": "base",
   "language": "python",
   "name": "python3"
  },
  "language_info": {
   "codemirror_mode": {
    "name": "ipython",
    "version": 3
   },
   "file_extension": ".py",
   "mimetype": "text/x-python",
   "name": "python",
   "nbconvert_exporter": "python",
   "pygments_lexer": "ipython3",
   "version": "3.12.4"
  }
 },
 "nbformat": 4,
 "nbformat_minor": 5
}
